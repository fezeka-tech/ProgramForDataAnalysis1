{
 "cells": [
  {
   "cell_type": "markdown",
   "id": "67a8fe73",
   "metadata": {},
   "source": [
    "# Assignment - Programming for Data Analysis - Winter 2021\n",
    "\n",
    "\n"
   ]
  },
  {
   "cell_type": "markdown",
   "id": "7ddf0a64",
   "metadata": {},
   "source": [
    "##                                The Numpy.Random Package"
   ]
  },
  {
   "cell_type": "markdown",
   "id": "8537a2df",
   "metadata": {},
   "source": []
  },
  {
   "cell_type": "markdown",
   "id": "7b4163ca",
   "metadata": {},
   "source": [
    "#### Fezeka Nzimande GMIT student G00387842\n"
   ]
  },
  {
   "cell_type": "markdown",
   "id": "14ec965a",
   "metadata": {},
   "source": [
    "The aim of this project is to explain the overall use of the Python numpy.random package, particularly the use of it’s simple random data functions, permutations functions and distributions functions. The final section delves into the use of seeds in generating pseudorandom numbers. I plan to answer these in a more understandable way by simplifiying the jargon contained in the package for better inderstanding and including illustrations to support my work.\n",
    "\n",
    "#### Problem Statement:\n",
    "\n",
    "1. Explain the overall purpose of the package.\n",
    "2. Explain the use of simple random data and Permurtations functions\n",
    "3. Explain the use and purpose of at least five “Distributions” functions.\n",
    "4. Explain the use of seeds in generating pseudorandom numbers."
   ]
  },
  {
   "cell_type": "code",
   "execution_count": 6,
   "id": "a00623be",
   "metadata": {},
   "outputs": [],
   "source": [
    "#import libraries#\n",
    "\n",
    "import numpy as np\n",
    "import matplotlib.pyplot as plt\n",
    "import pandas as pd\n",
    "import seaborn as sns\n"
   ]
  },
  {
   "cell_type": "markdown",
   "id": "067a0fe7",
   "metadata": {},
   "source": [
    "NumPy is specialist package needed for scientific computing with Python\n",
    "\n",
    "\n",
    "It provides:\n",
    "* a powerful N-dimensional array object\n",
    "* sophisticated (broadcasting) functions\n",
    "* tools for integrating C/C++ and Fortran code\n",
    "* useful linear algebra, Fourier transform, and random number capabilities\n",
    "\n",
    "\n",
    "It is a Python library that is efficient in and cleverly overcomes the problem of running slower algorithms on Python by using multidimensional arrays (lists within lists), matrices and functions that operate on arrays[1].\n",
    "\n",
    "\n",
    "\n",
    "\"While a Python list can contain different data types within a single list, all of the elements in a NumPy array should be homogeneous.\"\n"
   ]
  },
  {
   "cell_type": "code",
   "execution_count": null,
   "id": "a212c646",
   "metadata": {},
   "outputs": [],
   "source": []
  },
  {
   "cell_type": "markdown",
   "id": "09b554d8",
   "metadata": {},
   "source": [
    "### REFERENCES\n",
    "[1] Reitz, Kenneth. \"Scientific Applications\", The Hitchhiker's Guide to Python. https://docs.python-guide.org/scenarios/scientific/, Accessed 20 Nov. 2021.\n"
   ]
  },
  {
   "cell_type": "code",
   "execution_count": null,
   "id": "2c0bd0dc",
   "metadata": {},
   "outputs": [],
   "source": []
  }
 ],
 "metadata": {
  "kernelspec": {
   "display_name": "Python 3 (ipykernel)",
   "language": "python",
   "name": "python3"
  },
  "language_info": {
   "codemirror_mode": {
    "name": "ipython",
    "version": 3
   },
   "file_extension": ".py",
   "mimetype": "text/x-python",
   "name": "python",
   "nbconvert_exporter": "python",
   "pygments_lexer": "ipython3",
   "version": "3.8.12"
  }
 },
 "nbformat": 4,
 "nbformat_minor": 5
}
