{
 "cells": [
  {
   "cell_type": "markdown",
   "id": "67a8fe73",
   "metadata": {},
   "source": [
    "# Assignment - Programming for Data Analysis - Winter 2021\n",
    "\n",
    "\n"
   ]
  },
  {
   "cell_type": "markdown",
   "id": "7ddf0a64",
   "metadata": {},
   "source": [
    "##                                The Numpy.Random Package"
   ]
  },
  {
   "cell_type": "markdown",
   "id": "7b4163ca",
   "metadata": {},
   "source": [
    "#### Fezeka Nzimande GMIT student G00387842\n"
   ]
  },
  {
   "cell_type": "markdown",
   "id": "14ec965a",
   "metadata": {},
   "source": [
    "The aim of this project is to explain the overall use of the Python numpy.random package, particularly the use of it’s simple random data functions, permutations functions and distributions functions. The final section delves into the use of seeds in generating pseudorandom numbers. I plan to answer these in a more understandable way by simplifiying the jargon contained in the package for better inderstanding and including illustrations to support my work.\n",
    "\n",
    "#### Problem Statement:\n",
    "\n",
    "1. Explain the overall purpose of the package.\n",
    "2. Explain the use of simple random data and Permurtations functions\n",
    "3. Explain the use and purpose of at least five “Distributions” functions.\n",
    "4. Explain the use of seeds in generating pseudorandom numbers."
   ]
  },
  {
   "cell_type": "code",
   "execution_count": 3,
   "id": "a00623be",
   "metadata": {},
   "outputs": [],
   "source": [
    "#import libraries#\n",
    "\n",
    "import numpy as np\n",
    "import matplotlib.pyplot as plt\n",
    "import pandas as pd\n",
    "import seaborn as sns\n"
   ]
  },
  {
   "cell_type": "markdown",
   "id": "067a0fe7",
   "metadata": {},
   "source": [
    "### 1. Explain the overall purpose of the package.\n",
    "\n",
    "Numerical Python, well known as NumPy is a specialist package needed for scientific computing with Python. It is close to Python's standard library random but works with NumPy's array. It provides:\n",
    "\n",
    "* a powerful N-dimensional array object\n",
    "* sophisticated (broadcasting) functions\n",
    "* tools for integrating C/C++ and Fortran code\n",
    "* useful linear algebra, Fourier transform, and random number capabilities\n",
    "\n",
    "\n",
    "It is a Python library that is efficient in and cleverly overcomes the problem of running slower algorithms on Python by using multidimensional arrays (lists within lists), matrices and functions that operate on arrays[1].\n",
    "\"While a Python list can contain different data types within a single list, all of the elements in a NumPy array should be homogeneous[5].\" There are various ways to create arrays, to demonstrate, I will outline below the single and multi-dimensional array examples.\n"
   ]
  },
  {
   "cell_type": "code",
   "execution_count": 4,
   "id": "7f0ac2d1",
   "metadata": {},
   "outputs": [
    {
     "name": "stdout",
     "output_type": "stream",
     "text": [
      "[1 2 3]\n"
     ]
    }
   ],
   "source": [
    "#single dimensional array#\n",
    "\n",
    "a = np.array ([1, 2, 3])\n",
    "print (a)"
   ]
  },
  {
   "cell_type": "code",
   "execution_count": 5,
   "id": "54b15dd6",
   "metadata": {},
   "outputs": [
    {
     "name": "stdout",
     "output_type": "stream",
     "text": [
      "[[ 2  4  6]\n",
      " [ 8 10 12]]\n"
     ]
    }
   ],
   "source": [
    "#multi-dimensional array#\n",
    "\n",
    "a = np.array ([(2, 4, 6), (8, 10, 12)])\n",
    "print (a)\n"
   ]
  },
  {
   "cell_type": "markdown",
   "id": "bf6aa243",
   "metadata": {},
   "source": [
    "Therefore, although similar to Python lists, NumPy arrays are much more compact and efficient. They may also be refered to as ndarrays. An N-dimensional array is simply an array with any number of dimensions."
   ]
  },
  {
   "cell_type": "markdown",
   "id": "a9ca2427",
   "metadata": {},
   "source": [
    "### 2. Explain the use of the “Simple random data” and “Permutations” functions.\n",
    "\n",
    "Random in this case does not mean a different elemes each time.. It simply means generating elements in an unpredictable manner. ( The Random module can be split in to 2 sections-- numbers ...) The most simplest example of \n",
    "random logic is as below:\n",
    "\n",
    "\n",
    "\n",
    "\n"
   ]
  },
  {
   "cell_type": "code",
   "execution_count": 3,
   "id": "f1a68dd7",
   "metadata": {},
   "outputs": [
    {
     "name": "stdout",
     "output_type": "stream",
     "text": [
      "358\n"
     ]
    }
   ],
   "source": [
    "from numpy import random\n",
    "x = random.randint (2500)\n",
    "print(x)"
   ]
  },
  {
   "cell_type": "markdown",
   "id": "e4552ab5",
   "metadata": {},
   "source": [
    "Permutations: The permutation method is used to calculate the number of occurrences when order matters.\n",
    "\n",
    "\n",
    "Permutation(x) : A random permutation of the sequence, or a range of permuted values.\n",
    "\n",
    "Shuffle(x): Modifies a sequence in-place by shuffling its elements. This function only shuffles the array along the first axis of a multi-dimensional array. The order of sub-arrays is changed but their contents remains the same[5].\n",
    "\n",
    "\n",
    "Example below: "
   ]
  },
  {
   "cell_type": "code",
   "execution_count": 7,
   "id": "c1605b16",
   "metadata": {},
   "outputs": [
    {
     "data": {
      "text/plain": [
       "array([23, 28,  2, 19, 21, 14, 13, 20,  6, 12, 29, 34,  7,  9, 26,  3, 27,\n",
       "        8, 24, 33, 31,  4,  1, 17, 30, 18,  0, 22, 10, 11, 32, 25, 16, 15,\n",
       "        5])"
      ]
     },
     "execution_count": 7,
     "metadata": {},
     "output_type": "execute_result"
    }
   ],
   "source": [
    "arr = np.arange(35)\n",
    ">>> np.random.shuffle(arr)\n",
    ">>> arr #random#\n"
   ]
  },
  {
   "cell_type": "markdown",
   "id": "40506853",
   "metadata": {},
   "source": [
    "A simple random sample is a set of n objects in a population of N objects where all possible samples are equally likely to happen[6]. Random number genereation is necessary for processes where objectivity is imperitive for example,a game of russian roulette, lottery, etc. It is also very important for security purpose, generating encryption codes for instance.\n",
    "\n",
    "The BitGenerators are objects whose purpose is to generate random numbers. These are typically unsigned integer words filled with sequences of either 32 or 64 random bits.\n",
    "A generator takes a sequence of random bits from a BitGenerator and turns them into a sequence of numbers following a specific probability distribution (such as Uniform, Normal, or Binomial) within a specified time interval.\n",
    " Examples below:"
   ]
  },
  {
   "cell_type": "code",
   "execution_count": null,
   "id": "9a5e14f1",
   "metadata": {},
   "outputs": [],
   "source": []
  },
  {
   "cell_type": "markdown",
   "id": "7961f84e",
   "metadata": {},
   "source": [
    "3. Explain the use and purpose of at least five “Distributions” functions.\n"
   ]
  },
  {
   "cell_type": "markdown",
   "id": "09b554d8",
   "metadata": {},
   "source": [
    "### REFERENCES\n",
    "\n",
    "[1] Reitz, Kenneth. \"Scientific Applications\", The Hitchhiker's Guide to Python. Website: https://docs.python-guide.org/scenarios/scientific/, Accessed 20 Nov. 2021.\n",
    "\n",
    "[2]Pradhan, Tanvi. \"Manipulating Data with Numpy\". Website: https://medium.com/analytics-vidhya/manipulating-data-with-numpy-1bb9baaccfbf. Accessed 21 Nov. 2021\n",
    "\n",
    "[3] VanderPlas, Jake. \"Python Data Science Handbook: Essential Tools for Working with Data\". Copyright 2017.\n",
    "\n",
    "[4] SciPy.Org. \"Numpy and Scipy Documentation\". Website: https://docs.scipy.org/doc/. Accessed 20 Nov. 2021\n",
    "\n",
    "[5] Numpy.org. \"Quickstart and The Absolute Basics for Beginners\". Website: https://numpy.org/devdocs/user/absolute_beginners.html Accessed 20 Nov.2021\n",
    "\n",
    "[6] Simple Random Sample: Definitions and Examples. Website: https://www.statisticshowto.com/probability-and-statistics/statistics-definitions/simple-random-sample/ Accessed 22 Nov. 2021\n",
    "\n"
   ]
  },
  {
   "cell_type": "code",
   "execution_count": null,
   "id": "2c0bd0dc",
   "metadata": {},
   "outputs": [],
   "source": []
  }
 ],
 "metadata": {
  "kernelspec": {
   "display_name": "Python 3 (ipykernel)",
   "language": "python",
   "name": "python3"
  },
  "language_info": {
   "codemirror_mode": {
    "name": "ipython",
    "version": 3
   },
   "file_extension": ".py",
   "mimetype": "text/x-python",
   "name": "python",
   "nbconvert_exporter": "python",
   "pygments_lexer": "ipython3",
   "version": "3.8.12"
  }
 },
 "nbformat": 4,
 "nbformat_minor": 5
}
